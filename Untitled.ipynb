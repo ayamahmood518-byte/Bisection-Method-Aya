{
  "nbformat": 4,
  "nbformat_minor": 0,
  "metadata": {
    "colab": {
      "provenance": [],
      "authorship_tag": "ABX9TyOpmK/sNob5POS3KIjzAGKR",
      "include_colab_link": true
    },
    "kernelspec": {
      "name": "python3",
      "display_name": "Python 3"
    },
    "language_info": {
      "name": "python"
    }
  },
  "cells": [
    {
      "cell_type": "markdown",
      "metadata": {
        "id": "view-in-github",
        "colab_type": "text"
      },
      "source": [
        "<a href=\"https://colab.research.google.com/github/ayamahmood518-byte/Bisection-Method-Aya/blob/main/Untitled.ipynb\" target=\"_parent\"><img src=\"https://colab.research.google.com/assets/colab-badge.svg\" alt=\"Open In Colab\"/></a>"
      ]
    },
    {
      "cell_type": "code",
      "execution_count": 1,
      "metadata": {
        "colab": {
          "base_uri": "https://localhost:8080/"
        },
        "id": "AFzFp9_dHqeo",
        "outputId": "dcaf1a0c-3a7e-4f98-93ab-52ede406678a"
      },
      "outputs": [
        {
          "output_type": "stream",
          "name": "stdout",
          "text": [
            "The function has the same sign at both points. Choose a different interval.\n"
          ]
        }
      ],
      "source": [
        "# 🔹 Bisection Method Project\n",
        "# 🔹 Created by: Aya Mahmood\n",
        "# 🔹 Course: Numerical Analysis\n",
        "\n",
        "def f(x):\n",
        "    # Write your own equation here\n",
        "    return x**3 - 4*x + 1\n",
        "\n",
        "# Define initial guesses\n",
        "a = 0\n",
        "b = 2\n",
        "tolerance = 0.0001\n",
        "iteration = 1\n",
        "\n",
        "# Check if initial guesses are valid\n",
        "if f(a) * f(b) > 0:\n",
        "    print(\"The function has the same sign at both points. Choose a different interval.\")\n",
        "else:\n",
        "    print(\"Iter\\t a\\t\\t b\\t\\t c\\t\\t f(c)\")\n",
        "    print(\"-\"*60)\n",
        "\n",
        "    while (b - a) / 2 > tolerance:\n",
        "        c = (a + b) / 2\n",
        "        print(f\"{iteration}\\t {a:.6f}\\t {b:.6f}\\t {c:.6f}\\t {f(c):.6f}\")\n",
        "\n",
        "        if f(c) == 0:\n",
        "            # Perfect root found\n",
        "            break\n",
        "        elif f(a) * f(c) < 0:\n",
        "            b = c\n",
        "        else:\n",
        "            a = c\n",
        "\n",
        "        iteration += 1\n",
        "\n",
        "    print(\"-\"*60)\n",
        "    print(f\"Approximate root: {c:.6f}\")"
      ]
    }
  ]
}